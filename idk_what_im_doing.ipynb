{
 "cells": [
  {
   "cell_type": "code",
   "execution_count": 12,
   "id": "initial_id",
   "metadata": {
    "collapsed": true,
    "ExecuteTime": {
     "end_time": "2023-12-19T23:49:20.843281Z",
     "start_time": "2023-12-19T23:49:20.839081Z"
    }
   },
   "outputs": [],
   "source": [
    "import numpy as np\n",
    "import wfdb\n",
    "import os"
   ]
  },
  {
   "cell_type": "code",
   "execution_count": 30,
   "outputs": [
    {
     "data": {
      "text/plain": "numpy.ndarray"
     },
     "execution_count": 30,
     "metadata": {},
     "output_type": "execute_result"
    }
   ],
   "source": [
    "def load_data(path):\n",
    "    records = []\n",
    "    annotations = []\n",
    "    samples = set(i.split('.')[0] for i in os.listdir(path) if i.endswith('.hea'))\n",
    "    for i in samples:\n",
    "        record = wfdb.rdsamp(path + i, sampto=3000)\n",
    "        records.append(record)\n",
    "        annotation = wfdb.rdann(path + i, 'atr', sampto=3000)\n",
    "        annotations.append(annotation)\n",
    "    return records, annotations\n",
    "\n",
    "records, annotations = load_data('data/mitdb/1.0.0/')\n",
    "type(records[0][0])"
   ],
   "metadata": {
    "collapsed": false,
    "ExecuteTime": {
     "end_time": "2023-12-20T09:55:32.623764Z",
     "start_time": "2023-12-20T09:55:32.523147Z"
    }
   },
   "id": "a54448dd2c8564ae"
  },
  {
   "cell_type": "code",
   "execution_count": 22,
   "outputs": [],
   "source": [
    "def visualize_data(data):\n",
    "    for i in data:\n",
    "        wfdb.plot_wfdb(record=i[0], annotation=i[1], title=i[1].__dict__['record_name'], time_units='seconds')"
   ],
   "metadata": {
    "collapsed": false,
    "ExecuteTime": {
     "end_time": "2023-12-20T09:53:33.815158Z",
     "start_time": "2023-12-20T09:53:33.786055Z"
    }
   },
   "id": "71e0028f8cd52933"
  },
  {
   "cell_type": "code",
   "execution_count": 31,
   "outputs": [
    {
     "ename": "AttributeError",
     "evalue": "'numpy.ndarray' object has no attribute '__dict__'",
     "output_type": "error",
     "traceback": [
      "\u001B[0;31m---------------------------------------------------------------------------\u001B[0m",
      "\u001B[0;31mAttributeError\u001B[0m                            Traceback (most recent call last)",
      "Cell \u001B[0;32mIn[31], line 1\u001B[0m\n\u001B[0;32m----> 1\u001B[0m \u001B[43mvisualize_data\u001B[49m\u001B[43m(\u001B[49m\u001B[43mrecords\u001B[49m\u001B[43m[\u001B[49m\u001B[38;5;241;43m0\u001B[39;49m\u001B[43m]\u001B[49m\u001B[43m)\u001B[49m\n",
      "Cell \u001B[0;32mIn[22], line 3\u001B[0m, in \u001B[0;36mvisualize_data\u001B[0;34m(data)\u001B[0m\n\u001B[1;32m      1\u001B[0m \u001B[38;5;28;01mdef\u001B[39;00m \u001B[38;5;21mvisualize_data\u001B[39m(data):\n\u001B[1;32m      2\u001B[0m     \u001B[38;5;28;01mfor\u001B[39;00m i \u001B[38;5;129;01min\u001B[39;00m data:\n\u001B[0;32m----> 3\u001B[0m         wfdb\u001B[38;5;241m.\u001B[39mplot_wfdb(record\u001B[38;5;241m=\u001B[39mi[\u001B[38;5;241m0\u001B[39m], annotation\u001B[38;5;241m=\u001B[39mi[\u001B[38;5;241m1\u001B[39m], title\u001B[38;5;241m=\u001B[39m\u001B[43mi\u001B[49m\u001B[43m[\u001B[49m\u001B[38;5;241;43m1\u001B[39;49m\u001B[43m]\u001B[49m\u001B[38;5;241;43m.\u001B[39;49m\u001B[38;5;18;43m__dict__\u001B[39;49m[\u001B[38;5;124m'\u001B[39m\u001B[38;5;124mrecord_name\u001B[39m\u001B[38;5;124m'\u001B[39m], time_units\u001B[38;5;241m=\u001B[39m\u001B[38;5;124m'\u001B[39m\u001B[38;5;124mseconds\u001B[39m\u001B[38;5;124m'\u001B[39m)\n",
      "\u001B[0;31mAttributeError\u001B[0m: 'numpy.ndarray' object has no attribute '__dict__'"
     ]
    }
   ],
   "source": [
    "visualize_data(records[0])"
   ],
   "metadata": {
    "collapsed": false,
    "ExecuteTime": {
     "end_time": "2023-12-20T09:55:41.625292Z",
     "start_time": "2023-12-20T09:55:41.553528Z"
    }
   },
   "id": "6258928aaa7c8f9a"
  },
  {
   "cell_type": "code",
   "execution_count": null,
   "outputs": [],
   "source": [],
   "metadata": {
    "collapsed": false
   },
   "id": "b6df1e5e5e0633c7"
  }
 ],
 "metadata": {
  "kernelspec": {
   "display_name": "Python 3",
   "language": "python",
   "name": "python3"
  },
  "language_info": {
   "codemirror_mode": {
    "name": "ipython",
    "version": 2
   },
   "file_extension": ".py",
   "mimetype": "text/x-python",
   "name": "python",
   "nbconvert_exporter": "python",
   "pygments_lexer": "ipython2",
   "version": "2.7.6"
  }
 },
 "nbformat": 4,
 "nbformat_minor": 5
}
