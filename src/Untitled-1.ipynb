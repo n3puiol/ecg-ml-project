{
 "cells": [
  {
   "cell_type": "code",
   "execution_count": 90,
   "metadata": {},
   "outputs": [],
   "source": [
    "from generate_patient_dataset import GeneratePatientDataset\n",
    "data = GeneratePatientDataset(\"207\")\n",
    "\n",
    "readings = data.readings\n",
    "annotations = data.annotations\n",
    "mapping = data.mapping"
   ]
  },
  {
   "cell_type": "code",
   "execution_count": 91,
   "metadata": {},
   "outputs": [],
   "source": [
    "sequences_mapping = [list(pair) for pair in mapping.keys()]\n",
    "labels = [annotation.annotation for annotation in mapping.values()]"
   ]
  },
  {
   "cell_type": "code",
   "execution_count": 92,
   "metadata": {},
   "outputs": [],
   "source": [
    "sequences = []\n",
    "for sequence in sequences_mapping:\n",
    "    entries = []\n",
    "    for entry in sequence:\n",
    "        entries.append([entry.ml_ii, entry.v_1])\n",
    "    sequences.append(entries)"
   ]
  },
  {
   "cell_type": "code",
   "execution_count": 94,
   "metadata": {},
   "outputs": [
    {
     "name": "stdout",
     "output_type": "stream",
     "text": [
      "Maximum sequence length: 924\n"
     ]
    }
   ],
   "source": [
    "# Get max. length for Padding\n",
    "max_length = 0\n",
    "\n",
    "for key, val in mapping.items():\n",
    "    current_length = len(key)\n",
    "    if current_length > max_length:\n",
    "        max_length = current_length\n",
    "\n",
    "print(\"Maximum sequence length:\", max_length)"
   ]
  },
  {
   "cell_type": "code",
   "execution_count": null,
   "metadata": {},
   "outputs": [],
   "source": [
    "import pandas as pd\n",
    "\n",
    "# Load the annotations data\n",
    "annotations_path = '/mnt/data/207annotations.csv'\n",
    "annotations = pd.read_csv(annotations_path)\n",
    "\n",
    "# Convert the time column to minutes\n",
    "annotations['Time_min'] = annotations['Time'] / 60\n",
    "\n",
    "# Define the intervals for analysis\n",
    "intervals = [(0, 7.5), (7.5, 15), (15, 22.5), (22.5, 30)]\n",
    "\n",
    "# Focus on the specified classes\n",
    "classes_of_interest = ['L', '!', 'A', 'V', 'E']\n",
    "\n",
    "# Function to count occurrences of classes in each interval\n",
    "def count_classes_in_interval(df, interval, classes):\n",
    "    start, end = interval\n",
    "    interval_data = df[(df['Time_min'] >= start) & (df['Time_min'] < end)]\n",
    "    return interval_data['Type'].value_counts().reindex(classes, fill_value=0)\n",
    "\n",
    "# Count occurrences for each interval\n",
    "class_counts = {f'{start}-{end} min': count_classes_in_interval(annotations, (start, end), classes_of_interest)\n",
    "                for start, end in intervals}\n",
    "\n",
    "class_counts_df = pd.DataFrame(class_counts)\n",
    "class_counts_df\n"
   ]
  },
  {
   "cell_type": "code",
   "execution_count": 95,
   "metadata": {},
   "outputs": [],
   "source": [
    "from tensorflow.keras.preprocessing.sequence import pad_sequences\n",
    "\n",
    "# Pre-Processing\n",
    "def preprocess_sequence(sequences, labels, max_length):\n",
    "    # Convert labels to integer indices\n",
    "    label_to_index = {'L': 0, 'A': 1, 'V': 2, '!': 3, 'E': 4}\n",
    "    indices = [label_to_index[label] for label in labels]\n",
    "\n",
    "    # Padding\n",
    "    padded_sequences = pad_sequences(sequences, maxlen=max_length, padding='post', truncating='post', value=-1)\n",
    "\n",
    "    # Frequency Bandpass Filter\n",
    "    # TODO\n",
    "    \n",
    "    return padded_sequences, indices\n"
   ]
  },
  {
   "cell_type": "code",
   "execution_count": null,
   "metadata": {},
   "outputs": [],
   "source": [
    "preprocessed_sequences = preprocess_sequence(sequences, labels, max_length)"
   ]
  },
  {
   "cell_type": "code",
   "execution_count": 100,
   "metadata": {},
   "outputs": [],
   "source": [
    "from sklearn.model_selection import train_test_split\n",
    "\n",
    "# Split data into train/test\n",
    "train_x, test_x, train_y, test_y = train_test_split(\n",
    "    sequences, labels, test_size=0.5, random_state=42, stratify=labels\n",
    ")"
   ]
  },
  {
   "cell_type": "code",
   "execution_count": 109,
   "metadata": {},
   "outputs": [
    {
     "name": "stdout",
     "output_type": "stream",
     "text": [
      "Training Set Class Distribution: [728  53  53 236  53]\n",
      "Testing Set Class Distribution: [729  54  52 236  52]\n"
     ]
    }
   ],
   "source": [
    "import numpy as np\n",
    "\n",
    "# Check for data balance between train test\n",
    "train_class_distribution = np.bincount(train_y)\n",
    "test_class_distribution = np.bincount(test_y)\n",
    "\n",
    "print(\"Training Set Class Distribution:\", train_class_distribution)\n",
    "print(\"Testing Set Class Distribution:\", test_class_distribution)"
   ]
  }
 ],
 "metadata": {
  "kernelspec": {
   "display_name": "Python 3",
   "language": "python",
   "name": "python3"
  },
  "language_info": {
   "codemirror_mode": {
    "name": "ipython",
    "version": 3
   },
   "file_extension": ".py",
   "mimetype": "text/x-python",
   "name": "python",
   "nbconvert_exporter": "python",
   "pygments_lexer": "ipython3",
   "version": "3.11.4"
  }
 },
 "nbformat": 4,
 "nbformat_minor": 2
}
